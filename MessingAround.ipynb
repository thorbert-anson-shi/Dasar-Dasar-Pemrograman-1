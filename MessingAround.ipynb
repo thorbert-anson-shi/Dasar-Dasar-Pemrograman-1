{
 "cells": [
  {
   "cell_type": "markdown",
   "metadata": {},
   "source": [
    "String formatting can be done in two ways, using the .format() function, and using f-strings."
   ]
  },
  {
   "cell_type": "code",
   "execution_count": 2,
   "metadata": {},
   "outputs": [
    {
     "name": "stdout",
     "output_type": "stream",
     "text": [
      "Hello darkness my old friend\n",
      "I've come to talk with you again\n"
     ]
    }
   ],
   "source": [
    "# Using template strings\n",
    "template = \"Hello {} my old {}\"\n",
    "print(template.format(\"darkness\", \"friend\"))\n",
    "\n",
    "# Using f-strings\n",
    "action = \"talk\"\n",
    "unfortunately = \"again\"\n",
    "print(f\"I've come to {action} to you {unfortunately}\")"
   ]
  },
  {
   "cell_type": "markdown",
   "metadata": {},
   "source": [
    "Using the .format() function, you can determine the order in which the template placeholders' values are replaced\n",
    "It takes the value being formatted or a keyword value pair as arguments\n"
   ]
  },
  {
   "cell_type": "code",
   "execution_count": 6,
   "metadata": {},
   "outputs": [
    {
     "name": "stdout",
     "output_type": "stream",
     "text": [
      "fee fye fo fum fak\n"
     ]
    }
   ],
   "source": [
    "key2 = \"fum\"\n",
    "key3 = \"fee\"\n",
    "print(\"{key3} {key4} {key1} {key2} {key5}\".format(key1=\"fo\", key2=key2, key3=key3, key4=\"fye\", key5=\"fak\"))"
   ]
  },
  {
   "cell_type": "markdown",
   "metadata": {},
   "source": [
    "Strings can be formtted to be aligned in different ways using the <format_specification> field"
   ]
  },
  {
   "cell_type": "code",
   "execution_count": 10,
   "metadata": {},
   "outputs": [
    {
     "name": "stdout",
     "output_type": "stream",
     "text": [
      "Suhu tubuh:      37.50     °C\n"
     ]
    }
   ],
   "source": [
    "print(\"Suhu tubuh: {suhu:^15.2f}°C\".format(suhu=37.5))\n",
    "# The ^ symbol means to center the content of the formatted text\n",
    "#     > means to align right\n",
    "#     < means to align left\n",
    "# Replacing the alignment parameters results in padding with said character"
   ]
  },
  {
   "cell_type": "code",
   "execution_count": 16,
   "metadata": {},
   "outputs": [
    {
     "name": "stdout",
     "output_type": "stream",
     "text": [
      "0000000000000000000000000000000000000474\n"
     ]
    }
   ],
   "source": [
    "print(\"{:0=40d}\".format(474))"
   ]
  },
  {
   "cell_type": "code",
   "execution_count": 22,
   "metadata": {},
   "outputs": [
    {
     "name": "stdout",
     "output_type": "stream",
     "text": [
      "5 feet and 2 inches is 1.5478 meters\n"
     ]
    },
    {
     "data": {
      "text/plain": [
       "'Hello'"
      ]
     },
     "execution_count": 22,
     "metadata": {},
     "output_type": "execute_result"
    }
   ],
   "source": [
    "feet = 5\n",
    "inches = 2\n",
    "meters = 1.54779\n",
    "\n",
    "print (\"%d feet and %d inches is %1.4f meters\" % (feet, inches, meters))\n",
    "#format is %<spacing><other stuff><data type>"
   ]
  },
  {
   "cell_type": "code",
   "execution_count": 25,
   "metadata": {},
   "outputs": [
    {
     "name": "stdout",
     "output_type": "stream",
     "text": [
      "fr\n"
     ]
    }
   ],
   "source": [
    "s = \"foobar\"\n",
    "print(s[::-1][::-5])"
   ]
  }
 ],
 "metadata": {
  "kernelspec": {
   "display_name": "Python 3",
   "language": "python",
   "name": "python3"
  },
  "language_info": {
   "codemirror_mode": {
    "name": "ipython",
    "version": 3
   },
   "file_extension": ".py",
   "mimetype": "text/x-python",
   "name": "python",
   "nbconvert_exporter": "python",
   "pygments_lexer": "ipython3",
   "version": "3.11.4"
  },
  "orig_nbformat": 4
 },
 "nbformat": 4,
 "nbformat_minor": 2
}
